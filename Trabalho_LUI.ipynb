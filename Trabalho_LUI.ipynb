{
  "nbformat": 4,
  "nbformat_minor": 0,
  "metadata": {
    "colab": {
      "name": "Trabalho LUI.ipynb",
      "provenance": [],
      "collapsed_sections": []
    },
    "kernelspec": {
      "name": "python3",
      "display_name": "Python 3"
    },
    "language_info": {
      "name": "python"
    }
  },
  "cells": [
    {
      "cell_type": "markdown",
      "metadata": {
        "id": "WJLJg3Ru_4vL"
      },
      "source": [
        "# Trabalho da disciplina de **LUI**\n",
        "\n",
        "## O objetivo do trabalho é extrair informações de uma fonte de sua própria escolha, sendo através de uma **API** ou por **Web Scraping**.\n",
        "\n",
        "## Você deve fornecer o código com o output do dataframe e as saidas após as seguintes operações de Ordenação e Filtragem.\n",
        "\n",
        "## Etapas:\n",
        "\n",
        "1.   Escolher uma API ou site que contenham as informações desejadas\n",
        "    *   Filmes (API - https://www.omdbapi.com/) ou (Scraping - https://www.imdb.com/chart/toptv/?ref_=nv_tvv_250)\n",
        "    *   Alimentos (API - https://developer.nutritionix.com/docs/v1_1) ou (Scraping - https://www.nutritionix.com/database/common-foods)\n",
        "    *   Tempo (API - https://openweathermap.org/api)\n",
        "    *   Commodities (Scraping - https://www.indexmundi.com/commodities/?commodity=agricultural-raw-materials-price-index&months=360)\n",
        "    *   Finanças (\n",
        "Se você desejar também pode pesquisar sua própria API nesse site (https://the-api-collective.com/).\n",
        "\n",
        "Acima estão listadas apenas sugestões, fiquem à vontade! Inclusive podem utilizar alguma apresentada em aula!\n",
        "\n",
        "2.   Guardar todas essas informações extraídas em um DataFrame\n",
        "3.   Executar a operação de ordenação em um atributo escolhido (ao seu critério, podendo ser em ordem numérica ou alfabética)\n",
        "4.   Executar a operação de filtragem em um atributo escolhido (ao seu critério)\n",
        "\n",
        "\n",
        "O trabalho pode conter até 5~6 pessoas por grupo, não mais do que isso!\n",
        "\n"
      ]
    },
    {
      "cell_type": "markdown",
      "metadata": {
        "id": "_GTZxHzHg2Ke"
      },
      "source": [
        "****** LEIAM ATENTAMENTE A DOCUMENTAÇÃO DA SUA API ESCOLHIDA ******\n",
        "\n",
        "Dúvidas?\n",
        "\n",
        "prof.evelyn@ica.ele.puc-rio.br\n",
        "\n",
        "prof.felipe@ica.ele.puc-rio.br"
      ]
    },
    {
      "cell_type": "markdown",
      "metadata": {
        "id": "4PB7W3_rPEqG"
      },
      "source": [
        "## Se a escolha for API ..."
      ]
    },
    {
      "cell_type": "code",
      "metadata": {
        "id": "Q3Y3y3s6PV4C"
      },
      "source": [
        "import requests"
      ],
      "execution_count": null,
      "outputs": []
    },
    {
      "cell_type": "code",
      "metadata": {
        "id": "5lhWFOaRPV6I"
      },
      "source": [
        "resultado = requests.get(\"ENDEREÇO_API_REQUEST\")\n",
        "resultado.text"
      ],
      "execution_count": null,
      "outputs": []
    },
    {
      "cell_type": "code",
      "metadata": {
        "id": "g6nCDZ2bPWDG"
      },
      "source": [
        "# TRATAMENTO DAS INFORMAÇÕES SE NECESSÁRIO... (podem relembrar do que fizeram no trabalho de BI)\n"
      ],
      "execution_count": null,
      "outputs": []
    },
    {
      "cell_type": "code",
      "metadata": {
        "id": "uGwW0SeFhiEV"
      },
      "source": [
        "# ARMAZENE EM UM DATAFRAME E O EXIBA ... (nos exercícios realizados na aula de API tem exemplos parecidos)\n"
      ],
      "execution_count": null,
      "outputs": []
    },
    {
      "cell_type": "code",
      "metadata": {
        "id": "EpTiCAxkhqSS"
      },
      "source": [
        "# EXECUTE A OPERAÇÃO DE ORDENAÇÃO EM 1 ATRIBUTO DE SUA ESCOLHA\n"
      ],
      "execution_count": null,
      "outputs": []
    },
    {
      "cell_type": "code",
      "metadata": {
        "id": "zwLCWRNLhxhU"
      },
      "source": [
        "# EXECUTE A OPERAÇÃO DE FILTRAGEM EM 1 ATRIBUTO DE SUA ESCOLHA\n"
      ],
      "execution_count": null,
      "outputs": []
    },
    {
      "cell_type": "markdown",
      "metadata": {
        "id": "3wblo7KQPPdR"
      },
      "source": [
        "## Se a escolha for Scraping ..."
      ]
    },
    {
      "cell_type": "code",
      "metadata": {
        "id": "ieTQ3k2dPTu9"
      },
      "source": [
        "import requests"
      ],
      "execution_count": null,
      "outputs": []
    },
    {
      "cell_type": "code",
      "metadata": {
        "id": "jdL3xSgjiW07"
      },
      "source": [
        "resultado = requests.get(\"ENDEREÇO_URL_SCRAPING\")\n",
        "resultado.text"
      ],
      "execution_count": null,
      "outputs": []
    },
    {
      "cell_type": "code",
      "metadata": {
        "id": "MB9wMPl9ibeU"
      },
      "source": [
        "# TRATAMENTO DAS INFORMAÇÕES SE NECESSÁRIO... (podem relembrar do que fizeram no trabalho de BI)\n"
      ],
      "execution_count": null,
      "outputs": []
    },
    {
      "cell_type": "code",
      "metadata": {
        "id": "1zbMkQVWid5E"
      },
      "source": [
        "# ARMAZENE EM UM DATAFRAME E O EXIBA ...\n"
      ],
      "execution_count": null,
      "outputs": []
    },
    {
      "cell_type": "code",
      "metadata": {
        "id": "AzdpaAHeid6_"
      },
      "source": [
        "# EXECUTE A OPERAÇÃO DE ORDENAÇÃO EM 1 ATRIBUTO DE SUA ESCOLHA\n"
      ],
      "execution_count": null,
      "outputs": []
    },
    {
      "cell_type": "code",
      "metadata": {
        "id": "02tmXp9QigiH"
      },
      "source": [
        "# EXECUTE A OPERAÇÃO DE FILTRAGEM EM 1 ATRIBUTO DE SUA ESCOLHA\n"
      ],
      "execution_count": null,
      "outputs": []
    }
  ]
}